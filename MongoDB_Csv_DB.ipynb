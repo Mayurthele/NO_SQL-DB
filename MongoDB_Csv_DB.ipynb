{
 "cells": [
  {
   "cell_type": "code",
   "execution_count": 6,
   "metadata": {},
   "outputs": [
    {
     "name": "stdout",
     "output_type": "stream",
     "text": [
      "{'_id': ObjectId('639084a1f2f1331dd2da3aaf'), 'index': 0, 'Serial No.': 1, 'GRE Score': 337, 'TOEFL Score': 118, 'University Rating': 4, 'SOP': 4.5, 'LOR ': 4.5, 'CGPA': 9.65, 'Research': 1, 'Chance of Admit ': 0.92}\n",
      "{'_id': ObjectId('639084a1f2f1331dd2da3ab0'), 'index': 1, 'Serial No.': 2, 'GRE Score': 324, 'TOEFL Score': 107, 'University Rating': 4, 'SOP': 4.0, 'LOR ': 4.5, 'CGPA': 8.87, 'Research': 1, 'Chance of Admit ': 0.76}\n",
      "{'_id': ObjectId('639084a1f2f1331dd2da3ab1'), 'index': 2, 'Serial No.': 3, 'GRE Score': 316, 'TOEFL Score': 104, 'University Rating': 3, 'SOP': 3.0, 'LOR ': 3.5, 'CGPA': 8.0, 'Research': 1, 'Chance of Admit ': 0.72}\n",
      "{'_id': ObjectId('639084a1f2f1331dd2da3ab2'), 'index': 3, 'Serial No.': 4, 'GRE Score': 322, 'TOEFL Score': 110, 'University Rating': 3, 'SOP': 3.5, 'LOR ': 2.5, 'CGPA': 8.67, 'Research': 1, 'Chance of Admit ': 0.8}\n",
      "{'_id': ObjectId('639084a1f2f1331dd2da3ab3'), 'index': 4, 'Serial No.': 5, 'GRE Score': 314, 'TOEFL Score': 103, 'University Rating': 2, 'SOP': 2.0, 'LOR ': 3.0, 'CGPA': 8.21, 'Research': 0, 'Chance of Admit ': 0.65}\n"
     ]
    }
   ],
   "source": [
    "#task for today's session\n",
    "\n",
    "\"\"\"\n",
    "1. create a database iNeuron\n",
    "2. create a collection Addmision_details\n",
    "3. you have to dump this dataframe to mongodb collection.\n",
    "\n",
    "\"\"\"\n",
    "\n",
    "import pymongo\n",
    "import pandas as pd\n",
    "\n",
    "dataframe=pd.read_csv(\"https://raw.githubusercontent.com/vigneshk/Admission-Dataset/master/Admission.csv\")\n",
    "\n",
    "client = pymongo.MongoClient(\"mongodb://localhost:27017/\")\n",
    "db = client['iNeuron']\n",
    "collection = db['Addmision_details']\n",
    "dataframe.reset_index(inplace=True)\n",
    "data_dict = dataframe.to_dict(\"records\")\n",
    "collection.insert_many(data_dict)\n",
    "\n",
    "# Test the record loaded or Not 5 only \n",
    "result =collection.find().limit(5) \n",
    "#Iterated the data\n",
    "for i in result:\n",
    "    print(i)\n",
    "\n"
   ]
  }
 ],
 "metadata": {
  "kernelspec": {
   "display_name": "Python 3.8.10 64-bit",
   "language": "python",
   "name": "python3"
  },
  "language_info": {
   "codemirror_mode": {
    "name": "ipython",
    "version": 3
   },
   "file_extension": ".py",
   "mimetype": "text/x-python",
   "name": "python",
   "nbconvert_exporter": "python",
   "pygments_lexer": "ipython3",
   "version": "3.8.10"
  },
  "orig_nbformat": 4,
  "vscode": {
   "interpreter": {
    "hash": "e7370f93d1d0cde622a1f8e1c04877d8463912d04d973331ad4851f04de6915a"
   }
  }
 },
 "nbformat": 4,
 "nbformat_minor": 2
}
